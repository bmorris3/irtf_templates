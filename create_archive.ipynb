{
 "cells": [
  {
   "cell_type": "markdown",
   "metadata": {},
   "source": [
    "# Create HDF5 archive of NASA IRTF template spectra"
   ]
  },
  {
   "cell_type": "code",
   "execution_count": 30,
   "metadata": {
    "collapsed": true
   },
   "outputs": [],
   "source": [
    "import matplotlib.pyplot as plt\n",
    "import numpy as np\n",
    "from astropy.io import fits\n",
    "import h5py\n",
    "from astropy.utils.data import download_file\n",
    "from tarfile import TarFile\n",
    "import os\n",
    "from glob import glob\n",
    "\n",
    "url_g = 'http://irtfweb.ifa.hawaii.edu/~spex/IRTF_Spectral_Library/Data/G_fits_091201.tar'\n",
    "url_k = 'http://irtfweb.ifa.hawaii.edu/~spex/IRTF_Spectral_Library/Data/K_fits_091201.tar'\n",
    "url_m = 'http://irtfweb.ifa.hawaii.edu/~spex/IRTF_Spectral_Library/Data/M_fits_091201.tar'\n",
    "\n",
    "hdf5_archive_path = 'data/irtf_templates.hdf5'\n",
    "\n",
    "urls = [url_g, url_k, url_m]"
   ]
  },
  {
   "cell_type": "markdown",
   "metadata": {},
   "source": [
    "Download and extract FITS archives of G/K/M template stars: "
   ]
  },
  {
   "cell_type": "code",
   "execution_count": 14,
   "metadata": {
    "collapsed": false
   },
   "outputs": [
    {
     "name": "stdout",
     "output_type": "stream",
     "text": [
      "Downloading http://irtfweb.ifa.hawaii.edu/~spex/IRTF_Spectral_Library/Data/G_fits_091201.tar [Done]\n",
      "Downloading http://irtfweb.ifa.hawaii.edu/~spex/IRTF_Spectral_Library/Data/K_fits_091201.tar [Done]\n",
      "Downloading http://irtfweb.ifa.hawaii.edu/~spex/IRTF_Spectral_Library/Data/M_fits_091201.tar [Done]\n"
     ]
    }
   ],
   "source": [
    "for url in urls: \n",
    "    p = download_file(url)\n",
    "    with TarFile(p, 'r') as tar_ref:\n",
    "        tar_ref.extractall('data/.')"
   ]
  },
  {
   "cell_type": "code",
   "execution_count": 26,
   "metadata": {
    "collapsed": false
   },
   "outputs": [],
   "source": [
    "fits_paths = glob('data/*/*.fits')\n",
    "fits_names = [os.path.basename(p) for p in fits_paths]\n",
    "sptypes = [p.split('_')[0] for p in fits_names]\n",
    "sptypes_ms = [len(st) == 3 and st.endswith('V') for st in sptypes]\n",
    "ms_paths = [p for p, st in zip(fits_paths, sptypes_ms) if st]"
   ]
  },
  {
   "cell_type": "markdown",
   "metadata": {},
   "source": [
    "Create HDF5 archive of the same data: "
   ]
  },
  {
   "cell_type": "code",
   "execution_count": 96,
   "metadata": {
    "collapsed": false
   },
   "outputs": [],
   "source": [
    "if not os.path.exists(hdf5_archive_path):\n",
    "\n",
    "    with h5py.File(hdf5_archive_path, 'w') as f: \n",
    "        templates = f.create_group('templates')\n",
    "\n",
    "        for p in ms_paths:\n",
    "\n",
    "            header = fits.getheader(p)\n",
    "            target_name = header['OBJECT']\n",
    "            sptype = header['SPTYPE'].replace(' ', '')\n",
    "\n",
    "            if not sptype in list(templates):\n",
    "                data = fits.getdata(p)\n",
    "\n",
    "                data = np.vstack([data[0, :], data[1, :], data[2, :]]).T\n",
    "                not_nans = np.logical_not(np.any(np.isnan(data), axis=1))\n",
    "\n",
    "                dset = templates.create_dataset(sptype, data=data[not_nans, :], \n",
    "                                                compression='gzip')\n",
    "                for key, val in header.items():\n",
    "                    dset.attrs[key] = val"
   ]
  },
  {
   "cell_type": "markdown",
   "metadata": {},
   "source": [
    "Then delete the directories of FITS templates:"
   ]
  },
  {
   "cell_type": "code",
   "execution_count": 99,
   "metadata": {
    "collapsed": false
   },
   "outputs": [],
   "source": [
    "import shutil\n",
    "\n",
    "for directory in glob('data/*fits*'):\n",
    "    shutil.rmtree(directory)"
   ]
  }
 ],
 "metadata": {
  "kernelspec": {
   "display_name": "Python 3",
   "language": "python",
   "name": "python3"
  },
  "language_info": {
   "codemirror_mode": {
    "name": "ipython",
    "version": 3
   },
   "file_extension": ".py",
   "mimetype": "text/x-python",
   "name": "python",
   "nbconvert_exporter": "python",
   "pygments_lexer": "ipython3",
   "version": "3.5.4"
  }
 },
 "nbformat": 4,
 "nbformat_minor": 0
}
